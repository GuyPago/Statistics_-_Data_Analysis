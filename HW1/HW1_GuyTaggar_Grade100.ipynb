{
 "cells": [
  {
   "cell_type": "markdown",
   "metadata": {},
   "source": [
    "### IDs:\n",
    "Insert yours IDs to the cell below"
   ]
  },
  {
   "cell_type": "markdown",
   "metadata": {},
   "source": [
    "ID #1: ",
    "\n",
    "ID #2: "
   ]
  },
  {
   "cell_type": "markdown",
   "metadata": {},
   "source": [
    "## Read the following instructions carefully:\n",
    "\n",
    "1. This jupyter notebook contains all the step by step instructions needed for this exercise.\n",
    "1. You are free to add cells.\n",
    "1. Write your functions and your answers in this jupyter notebook only.\n",
    "1. Answers to theoretical questions should be written in **markdown cells (with $\\LaTeX$ support)**.\n",
    "1. Submit this jupyter notebook only using your ID as a filename. Not to use ZIP or RAR. For example, your Moodle submission file name should look like this (two id numbers): `123456789_987654321.ipynb`."
   ]
  },
  {
   "cell_type": "code",
   "execution_count": 1,
   "metadata": {},
   "outputs": [],
   "source": [
    "from scipy.stats import binom, nbinom\n",
    "import numpy as np\n",
    "import matplotlib.pyplot as plt\n",
    "import seaborn as sns\n",
    "import random\n",
    "%matplotlib inline"
   ]
  },
  {
   "cell_type": "markdown",
   "metadata": {},
   "source": [
    "### Question 1 - Defective products"
   ]
  },
  {
   "cell_type": "markdown",
   "metadata": {},
   "source": [
    "In a manufacturing pipeline products are 3% defective. We are interested in examining a defective product to see what goes wrong on the belt. We need to ask the facility manager to send us a set of independent samples for examination."
   ]
  },
  {
   "cell_type": "markdown",
   "metadata": {},
   "source": [
    "#### 1.A\n",
    "\n",
    "How many independent samples should we ask for in order to have a 85% probability of having at least one defective product in the batch sent? You should write a function."
   ]
  },
  {
   "cell_type": "markdown",
   "metadata": {},
   "source": [
    "If we mark a defective product as a success and let $X$ be the number of defected products in the batch, then $X\\sim Bin(n, 0.03)$"
   ]
  },
  {
   "cell_type": "markdown",
   "metadata": {},
   "source": [
    "$P\\{X \\ge 1\\} = 1-P\\{X\\le 0\\} = 1-F_X(0)$\n",
    "\n",
    "Where $F_X$ is the cumulative distribution function of $X$."
   ]
  },
  {
   "cell_type": "markdown",
   "metadata": {},
   "source": [
    "We can calculate $F_X(0)$ directly:\n",
    "$$F_X(0) ={n\\choose 0}0.97^{n}\\cdot0.03^0=0.97^{n}$$\n",
    "Solving the equation $1-0.97^{n}=0.85$ yields:\n",
    "$$0.97^n=0.15\\Longrightarrow$$\n",
    "$$n=\\log_{0.97}(0.15)$$"
   ]
  },
  {
   "cell_type": "code",
   "execution_count": 2,
   "metadata": {},
   "outputs": [
    {
     "data": {
      "text/plain": [
       "62.2839575139403"
      ]
     },
     "execution_count": 2,
     "metadata": {},
     "output_type": "execute_result"
    }
   ],
   "source": [
    "from math import log\n",
    "log(0.15, 0.97)  # Use ceil"
   ]
  },
  {
   "cell_type": "markdown",
   "metadata": {},
   "source": [
    "But solving that problem for a general number of defective products is not an easy task. Thus we rather choose to solve it numerically by defining a general function `find_trials`:"
   ]
  },
  {
   "cell_type": "code",
   "execution_count": 3,
   "metadata": {},
   "outputs": [],
   "source": [
    "def find_trials(succ_rate, p, defectives):\n",
    "    assert (0 <= p <= 1) and (0 <= succ_rate <= 1), 'All probabilities must be between 0 and 1'\n",
    "    i = 1\n",
    "    rv = binom(i,p)\n",
    "    while (1-rv.cdf(defectives-1)) < succ_rate:\n",
    "        i += 1\n",
    "        rv = binom(i, p)\n",
    "    return i"
   ]
  },
  {
   "cell_type": "code",
   "execution_count": 4,
   "metadata": {},
   "outputs": [
    {
     "data": {
      "text/plain": [
       "63"
      ]
     },
     "execution_count": 4,
     "metadata": {},
     "output_type": "execute_result"
    }
   ],
   "source": [
    "trials = find_trials(succ_rate=0.85, p=0.03, defectives=1)\n",
    "trials"
   ]
  },
  {
   "cell_type": "markdown",
   "metadata": {},
   "source": [
    "Let us validate the result using our calculation of $F_X$:"
   ]
  },
  {
   "cell_type": "code",
   "execution_count": 5,
   "metadata": {
    "scrolled": true
   },
   "outputs": [
    {
     "data": {
      "text/plain": [
       "0.8532360949640706"
      ]
     },
     "execution_count": 5,
     "metadata": {},
     "output_type": "execute_result"
    }
   ],
   "source": [
    "1 - (0.97**trials)"
   ]
  },
  {
   "cell_type": "markdown",
   "metadata": {},
   "source": [
    "#### 1.B\n",
    "Answer this part again with the following changes: products are 4% defective and we want a 95% probability of at least one defective product in the batch."
   ]
  },
  {
   "cell_type": "code",
   "execution_count": 6,
   "metadata": {},
   "outputs": [
    {
     "data": {
      "text/plain": [
       "74"
      ]
     },
     "execution_count": 6,
     "metadata": {},
     "output_type": "execute_result"
    }
   ],
   "source": [
    "find_trials(0.95, 0.04, 1)"
   ]
  },
  {
   "cell_type": "markdown",
   "metadata": {},
   "source": [
    "#### 1.C \n",
    "\n",
    "Consider the following cases and calculate how many independent samples are required: \n",
    "\n",
    "1. Products are 10% defective and we want a 90% probability of at least 5 defective products in the batch.\n",
    "1. Products are 30% defective and we want a 90% probability of at least 15 defective products in the batch.\n",
    "\n",
    "Explain the difference between the two results. You should use mathematical reasoning based on the properties of distributions you saw in class and visualizations in your answer."
   ]
  },
  {
   "cell_type": "code",
   "execution_count": 7,
   "metadata": {},
   "outputs": [
    {
     "data": {
      "text/plain": [
       "78"
      ]
     },
     "execution_count": 7,
     "metadata": {},
     "output_type": "execute_result"
    }
   ],
   "source": [
    "find_trials(0.9, 0.1, defectives=5)"
   ]
  },
  {
   "cell_type": "code",
   "execution_count": 8,
   "metadata": {},
   "outputs": [
    {
     "data": {
      "text/plain": [
       "64"
      ]
     },
     "execution_count": 8,
     "metadata": {},
     "output_type": "execute_result"
    }
   ],
   "source": [
    "find_trials(0.9, 0.3, defectives=15)"
   ]
  },
  {
   "cell_type": "code",
   "execution_count": 9,
   "metadata": {},
   "outputs": [
    {
     "data": {
      "image/png": "[encoded data removed]",
      "text/plain": [
       "<Figure size 800x500 with 1 Axes>"
      ]
     },
     "metadata": {
      "needs_background": "light"
     },
     "output_type": "display_data"
    }
   ],
   "source": [
    "def prec_num(s_rate, prob):\n",
    "    # s_rate = probality asked for (as same as a_rate in find_n))\n",
    "    # prob - probality of defective product (as same as p in find_n)\n",
    "    \n",
    "    n_of_defects = np.vstack((np.arange(0,11),np.zeros(11))).astype(int)\n",
    "    # creating a 2-d array:\n",
    "        # n_of_defects[0] - number of minimum defects products\n",
    "        # n_of_defects[1] - number of necessary independent samples according to it and the the s_rate\n",
    "            \n",
    "    for num in n_of_defects[0]:\n",
    "        # num - minimum number of defectives products that are asked for checking  (as same as p in find_n)\n",
    "        n_of_defects[1][num] = find_trials(s_rate, prob, num)\n",
    "    \n",
    "    return n_of_defects\n",
    "    \n",
    "data_1 = prec_num(0.9, 0.1)\n",
    "data_2 = prec_num(0.9, 0.3)\n",
    "\n",
    "plt.figure(figsize=(8,5), dpi = 100)\n",
    "\n",
    "# create a ploe of minimum number of defectives products according to number of necessary independent samples\n",
    "sns.lineplot(x = data_1[0], y = data_1[1], marker='o', color='#1300ba')\n",
    "sns.lineplot(x = data_2[0], y = data_2[1], marker='*', color='#ba7000')\n",
    "\n",
    "plt.title('distribution according to:\\n probability of having at least one defective product  - 90%')\n",
    "plt.xlabel('Minimum defect products')\n",
    "plt.ylabel('Samples needed')\n",
    "plt.legend(['$p=10$%','$p=30\\%$']);"
   ]
  },
  {
   "cell_type": "markdown",
   "metadata": {},
   "source": [
    "#### According to the graph above, there are few important conclusions.\n",
    "\n",
    "each value in each plot represents a cdf that was calculated in the function find_d.\n",
    "the cdf is a sum of pmf's, and that is why both of the plots are in positive incline:\n",
    "    the greater the number of <B>minimum</B> products, you need more samples. \n",
    "It seems to be almost linear, although it is not linear, but Cumulative distributed (CDF).\n",
    "\n",
    "Nevertheless, the PMF is calculated according to the Binmoial ditribution:\n",
    "$$P(X=k) =  {n\\choose k} p^{k}(1-p)^{n-k}$$\n",
    "in this case, according to the formula it is clearly that the relation between p (probality of defective product)and k (number of defect products) is non linear.\n",
    "\n",
    "In addition, while a higher defective rate $(p)$ requires a smaller $n$, a greater number of defectives requires a higher $n$. So we have a counter effect between the two RV's. Let us investigate the strenghts of these effects by iterating over $n$"
   ]
  },
  {
   "cell_type": "code",
   "execution_count": 85,
   "metadata": {},
   "outputs": [
    {
     "data": {
      "image/png": "[encoded data removed]",
      "text/plain": [
       "<Figure size 864x432 with 1 Axes>"
      ]
     },
     "metadata": {
      "needs_background": "light"
     },
     "output_type": "display_data"
    }
   ],
   "source": [
    "plt.figure(figsize=(12,6))\n",
    "n = np.arange(14, 100)\n",
    "p_01 = binom.sf(4, n, 0.1)\n",
    "p_03 = binom.sf(14, n, 0.3)\n",
    "plt.plot(n, p_01, label='$p=0.1$')\n",
    "plt.plot(n, p_03, label='$p=0.3$')\n",
    "plt.title('CDF'), plt.ylabel('$F(defects)$'), plt.xlabel('n')\n",
    "plt.hlines(y=[0.9, 0.587], xmin=[15, 48], xmax=[100, 54], color=['r', 'black'], lw=0.7, ls='--')\n",
    "plt.scatter(x=[51, 64, 78], y=[0.587, 0.9, 0.9], color='blue', s=50, alpha=0.5)\n",
    "plt.fill_between(x=n, y1=p_01, y2=p_03, alpha=0.2)\n",
    "plt.annotate(text=51, xy=[51, 0.55]), plt.annotate(64, xy=[64, 0.9]), plt.annotate(78, xy=[78, 0.9])\n",
    "plt.legend();"
   ]
  },
  {
   "cell_type": "markdown",
   "metadata": {},
   "source": [
    "As can be seen above, the effect of a higher defective rate ($p$) is weaker than the effect of the number of defectives required for every $n<51$, and outperforms it for every $n>51$. Moreover, looking at the orange graph, it looks like we have an inflection point exactly at $n=51$."
   ]
  },
  {
   "cell_type": "markdown",
   "metadata": {},
   "source": [
    "### Question 2 - Rent distributions in Randomistan"
   ]
  },
  {
   "cell_type": "markdown",
   "metadata": {},
   "source": [
    "The state of Randomistan conducted a survey to study the distribution of rent paid in two neighboring towns, Stochastic Heights and Random Grove, to be denoted SH and RG.<br> \n",
    "\n",
    "Here are some findings of the survey:\n",
    "* The population of SH and RG is 16,000 and 22,000 respectively. <br>\n",
    "* The mean rent in SH and RG is 6300RCU and 4200RCU respectively.\n",
    "* The median rent is 4600RCU in both towns.\n",
    "* The IQR of the rent is smaller in SH than in RG.\n",
    "\n",
    "All data generated in this question needs to be consistent with these findings."
   ]
  },
  {
   "cell_type": "markdown",
   "metadata": {},
   "source": [
    "#### 2.A\n",
    "Draw histograms that describe 2 different scenarii of possible distributions of rent in the two towns.\u000b",
    "Your histograms should:<br>\n",
    "* Use bins of 100RCU each.\n",
    "* Have at least 10 non zero bins."
   ]
  },
  {
   "cell_type": "markdown",
   "metadata": {},
   "source": [
    "First we will assign random values to an array by numpy.random.normal.\n",
    "As for the scale (std) - we assign an estimated value and fix it after we check the findings."
   ]
  },
  {
   "cell_type": "code",
   "execution_count": 11,
   "metadata": {},
   "outputs": [],
   "source": [
    "pop_sh = 16000\n",
    "pop_rg = 22000\n",
    "\n",
    "mean_sh = 6300\n",
    "mean_rg = 4200\n",
    "\n",
    "med_sh = 4600\n",
    "med_rg = 4600\n",
    "\n",
    "std_sh = 800 # estimated\n",
    "std_rg = 1000 # estimated\n",
    "\n",
    "#creating first secnario data\n",
    "\n",
    "np.random.seed(0) # use random.seed in order to generate a fixed database\n",
    "sh_data1 = np.sort(np.random.normal(mean_sh, std_sh, pop_sh)).astype(int)\n",
    "np.random.seed(1)\n",
    "rg_data1 = (np.sort(np.random.normal(mean_rg, std_rg*2, pop_rg)).astype(int))*2\n",
    "\n",
    "# creating second scenario data, change the distribution by changing the only unfixed value - the std (change is differently)\n",
    "np.random.seed(2)\n",
    "sh_data2 = np.sort(np.random.normal(mean_sh, std_sh*1.5, pop_sh)).astype(int)\n",
    "np.random.seed(3)\n",
    "rg_data2 = (np.sort(np.random.normal(mean_rg, std_rg*3, pop_rg)).astype(int))*2"
   ]
  },
  {
   "cell_type": "markdown",
   "metadata": {},
   "source": [
    "After creating two scenarios, we must 'manage' the data to the median and IQR.\n",
    "1. Replace negative values\n",
    "2. Inserting the median value\n",
    "3. Fix the iqr. If necessary, change the std in the original creating data function\n",
    "4. Define a function to fix the mean and sort the data"
   ]
  },
  {
   "cell_type": "markdown",
   "metadata": {},
   "source": [
    "#### Replace negative values"
   ]
  },
  {
   "cell_type": "code",
   "execution_count": 12,
   "metadata": {},
   "outputs": [],
   "source": [
    "def rep_neg(db, name):\n",
    "    #db - town's renting database\n",
    "    #name - town's name\n",
    "  \n",
    "    temp = np.copy(db)  # copying the db in order to change it (and not use pointer)\n",
    "    print(name, 'before replacing:', temp)\n",
    "    \n",
    "    # changing all the values to the absolut value in order to prevent negative values\n",
    "    temp[:] = np.sort(abs(temp[:])+1)\n",
    "    print(name, 'after replacing:', temp,'\\n')\n",
    "    \n",
    "    return temp"
   ]
  },
  {
   "cell_type": "markdown",
   "metadata": {},
   "source": [
    "#### Fix the median value"
   ]
  },
  {
   "cell_type": "code",
   "execution_count": 13,
   "metadata": {},
   "outputs": [],
   "source": [
    "# all the datasets have even number of elemnts, so in order to fix the median value we need to change the n/2-1 and n/2+1 element\n",
    "\n",
    "def fix_med(db, med):\n",
    "    # db - town's database\n",
    "    # med - required median\n",
    "    \n",
    "    new_pop = np.copy(db)   \n",
    "\n",
    "    while abs((new_pop[int(new_pop.shape[0]*0.5)] - med)) > 50:\n",
    "        # a while loop comparing the diffrence between the current and the desired median\n",
    "\n",
    "        if new_pop[int(new_pop.shape[0]*0.5)] > med: \n",
    "            # if the current median is bigger, force cheaper rents on the database\n",
    "            \n",
    "            new_pop[random.randrange(0, new_pop.shape[0]-1)] = random.randrange(1, med-10)\n",
    "            #insert a random med value in order to upgrade the desired median (add cheaper data and 'upgrade' the median)\n",
    "            # randrange to prevent a multiple constant value\n",
    "            \n",
    "        elif new_pop[int(new_pop.shape[0]*0.5)] < med:\n",
    "            # if the current median is smaller, force more expensive rents on the database\n",
    "\n",
    "            #new_pop[random.randrange(0, new_pop.shape[0]-1)] = random.randrange(med+10, new_pop[-1])\n",
    "            new_pop[random.randrange(0, 10000)] = random.randrange(med+10, 10000)\n",
    "            #insert med value in order to decrease the disired median (add expencive data and 'lower' the median)\n",
    "            # randrange to prevent a multiple constant value\n",
    "\n",
    "        \n",
    "        new_pop = np.sort(new_pop) # sort the new database\n",
    "\n",
    "    \n",
    "    \n",
    "    return new_pop\n",
    "\n",
    "\n"
   ]
  },
  {
   "cell_type": "markdown",
   "metadata": {},
   "source": [
    "#### Check the IQR diffrence "
   ]
  },
  {
   "cell_type": "code",
   "execution_count": 14,
   "metadata": {},
   "outputs": [],
   "source": [
    "def iqr_town(db_1, db_2, name_1, name_2):\n",
    "    # db_n - a town database\n",
    "    #name_n - a town's name in correlation\n",
    "    \n",
    "     # calculate db_1 IQR. index Q1 and Q3 using the length of the array - shape[0]\n",
    "    iqr_1 = db_1[int(db_1.shape[0]*0.75)] - db_1[int(db_1.shape[0]*0.25)] \n",
    "    iqr_2 = db_2[int(db_2.shape[0]*0.75)] - db_2[int(db_2.shape[0]*0.25)]  \n",
    "    \n",
    "    # print the town with the bigger IQR (according to the diffrences betwee nthe IQR's).\n",
    "    # first town - the 1 value in the function\n",
    "    if iqr_1 > iqr_2: print(name_1, 'town has bigger IQR by:', int(iqr_1-iqr_2),'RCU')\n",
    "    if iqr_1 < iqr_2: print(name_2, 'town has bigger IQR by:', int(iqr_2-iqr_1),'RCU','\\n')"
   ]
  },
  {
   "cell_type": "markdown",
   "metadata": {},
   "source": [
    "#### Fix the mean and sort the database"
   ]
  },
  {
   "cell_type": "code",
   "execution_count": 15,
   "metadata": {},
   "outputs": [],
   "source": [
    "def fix_mean(pop, mean, town):\n",
    "    # pop - array of rent prices data\n",
    "    # mean - the required mean\n",
    "    \n",
    "    new_pop = np.copy(pop)\n",
    "    print(town, \"\\nthe current mean is:\",round(new_pop.mean()))\n",
    "    \n",
    "    while abs(int(new_pop.mean()) - mean) > 50:\n",
    "        # a while loop comparing the diffrence between the current and the desired mean\n",
    "        \n",
    "        if new_pop.mean() > mean: \n",
    "            # if the current mean is bigger, force cheaper rents on the database\n",
    "            new_pop[random.randrange(0, new_pop.shape[0]-1)] = random.randrange(1, mean) #insert a low value in order to reduce the mean (make the cheapest rents to be even cheaper)\n",
    "                \n",
    "        else:\n",
    "            # if the current mean is smaller, force more expensive rents on the database\n",
    "            new_pop[random.randrange(0, new_pop.shape[0]-1)] = random.randrange(4600, int(new_pop[-1]*2)) #insert a random value similar to the last value in order to increase the mean\n",
    "        \n",
    "    new_pop = np.sort(new_pop) # the sort the new database\n",
    "    print(\"the fixed mean is:\", round(new_pop.mean()))\n",
    "    \n",
    "    return new_pop"
   ]
  },
  {
   "cell_type": "markdown",
   "metadata": {},
   "source": [
    "##### Scenario A"
   ]
  },
  {
   "cell_type": "code",
   "execution_count": 16,
   "metadata": {},
   "outputs": [
    {
     "name": "stdout",
     "output_type": "stream",
     "text": [
      "SH1 before replacing: [3307 3344 3422 ... 9065 9093 9341]\n",
      "SH1 after replacing: [3308 3345 3423 ... 9066 9094 9342] \n",
      "\n",
      "RG1 before replacing: [-7310 -6224 -5404 ... 24234 24506 25072]\n",
      "RG1 after replacing: [    1     1     3 ... 24235 24507 25073] \n",
      "\n",
      "RG1 town has bigger IQR by: 4314 RCU \n",
      "\n",
      "SH1 \n",
      "the current mean is: 4316\n",
      "the fixed mean is: 6250\n",
      "RG1 \n",
      "the current mean is: 6025\n",
      "the fixed mean is: 4250\n",
      "SH1 median: 4645\n",
      "RG1 median: 4550\n",
      "RG1 town has bigger IQR by: 1161 RCU \n",
      "\n"
     ]
    },
    {
     "data": {
      "image/png": "[encoded data removed]",
      "text/plain": [
       "<Figure size 720x480 with 1 Axes>"
      ]
     },
     "metadata": {
      "needs_background": "light"
     },
     "output_type": "display_data"
    }
   ],
   "source": [
    "sh_data1 = rep_neg(sh_data1, \"SH1\")\n",
    "rg_data1 = rep_neg(rg_data1, \"RG1\")\n",
    "\n",
    "iqr_town(sh_data1, rg_data1, \"SH1\", \"RG1\")\n",
    "\n",
    "# assign the median\n",
    "sh_data1 = fix_med(sh_data1, med_sh)\n",
    "rg_data1 = fix_med(rg_data1, med_rg)\n",
    "\n",
    "# fix the mean\n",
    "sh_data1 = fix_mean(sh_data1, mean_sh,\"SH1\")\n",
    "rg_data1 = fix_mean(rg_data1, mean_rg,\"RG1\")\n",
    "\n",
    "# assign the median again\n",
    "sh_data1 = fix_med(sh_data1, med_sh)\n",
    "rg_data1 = fix_med(rg_data1, med_rg)\n",
    "\n",
    "print(\"SH1 median:\", sh_data1[int(sh_data1.shape[0]*0.5)])\n",
    "print(\"RG1 median:\", rg_data1[int(rg_data1.shape[0]*0.5)])\n",
    "\n",
    "iqr_town(sh_data1, rg_data1, \"SH1\", \"RG1\")\n",
    "plt.figure(figsize=(6,4), dpi = 120)\n",
    "\n",
    "# create histplots of bins that are sized of width as defined\n",
    "sns.histplot(sh_data1, binwidth = 100, color='#f2a916', edgecolor='k')\n",
    "sns.histplot(rg_data1, binwidth = 100, color='#3369a6', edgecolor='k')\n",
    "plt.xlabel('RCU'), plt.ylabel('Number of rental payments (houses)')\n",
    "plt.legend(['SH1','RG1'])\n",
    "plt.title('distribution of RCU - Scenario A');"
   ]
  },
  {
   "cell_type": "markdown",
   "metadata": {},
   "source": [
    "##### Scenario B"
   ]
  },
  {
   "cell_type": "code",
   "execution_count": 17,
   "metadata": {},
   "outputs": [
    {
     "name": "stdout",
     "output_type": "stream",
     "text": [
      "SH2 before replacing: [ 1547  2001  2047 ... 10747 11230 11260]\n",
      "SH2 after replacing: [ 1548  2002  2048 ... 10748 11231 11261] \n",
      "\n",
      "RG2 before replacing: [-14788 -14098 -13854 ...  30614  32948  34600]\n",
      "RG2 after replacing: [    1     3     3 ... 30615 32949 34601] \n",
      "\n",
      "SH1 \n",
      "the current mean is: 6299\n",
      "the fixed mean is: 6299\n",
      "RG1 \n",
      "the current mean is: 8770\n",
      "the fixed mean is: 4251\n",
      "SH2 median: 4648\n",
      "RG2 median: 4553\n",
      "RG2 town has bigger IQR by: 1852 RCU \n",
      "\n"
     ]
    },
    {
     "data": {
      "text/plain": [
       "Text(0.5, 1.0, 'distribution of RCU - Scenario B')"
      ]
     },
     "execution_count": 17,
     "metadata": {},
     "output_type": "execute_result"
    },
    {
     "data": {
      "image/png": "[encoded data removed]",
      "text/plain": [
       "<Figure size 720x480 with 1 Axes>"
      ]
     },
     "metadata": {
      "needs_background": "light"
     },
     "output_type": "display_data"
    }
   ],
   "source": [
    "sh_data2 = rep_neg(sh_data2, \"SH2\")\n",
    "rg_data2 = rep_neg(rg_data2, \"RG2\")\n",
    "\n",
    "sh_data2 = fix_mean(sh_data2, mean_sh,\"SH1\")\n",
    "rg_data2 = fix_mean(rg_data2, mean_rg,\"RG1\")\n",
    "\n",
    "sh_data2 = fix_med(sh_data2, med_sh)\n",
    "rg_data2 = fix_med(rg_data2, med_rg)\n",
    "\n",
    "print(\"SH2 median:\", sh_data2[int(sh_data1.shape[0]*0.5)])\n",
    "print(\"RG2 median:\", rg_data2[int(rg_data1.shape[0]*0.5)])\n",
    "\n",
    "iqr_town(sh_data2, rg_data2, \"SH2\", \"RG2\")\n",
    "plt.figure(figsize=(6,4), dpi = 120)\n",
    "\n",
    "# create histplots of bins that are sized of width as defined\n",
    "sns.histplot(sh_data2, binwidth = 100, color='#940a24', edgecolor='k')\n",
    "sns.histplot(rg_data2, binwidth = 100, color='#5acc18', edgecolor='k')\n",
    "plt.xlabel('RCU')\n",
    "plt.ylabel('Number of rental payments (houses)')\n",
    "plt.legend(['SH2','RG2'])\n",
    "plt.title('distribution of RCU - Scenario B')"
   ]
  },
  {
   "cell_type": "markdown",
   "metadata": {},
   "source": [
    "#### 2.B\n",
    "Draw a histogram of a third scenario with the same properties. <br>\n",
    "In addition, in this scenario the rent in SH should have a higher variance than the rent in RG."
   ]
  },
  {
   "cell_type": "markdown",
   "metadata": {},
   "source": [
    "##### Scenario C"
   ]
  },
  {
   "cell_type": "code",
   "execution_count": 18,
   "metadata": {},
   "outputs": [
    {
     "name": "stdout",
     "output_type": "stream",
     "text": [
      "SH1 before replacing: [-4747 -4324 -2460 ... 15985 16015 16305]\n",
      "SH1 after replacing: [   16    17    25 ... 15986 16016 16306] \n",
      "\n",
      "RG1 before replacing: [-14176 -11836  -9270 ...  26308  26864  29526]\n",
      "RG1 after replacing: [    1     1     1 ... 26309 26865 29527] \n",
      "\n",
      "SH3 \n",
      "the current mean is: 4953\n",
      "the fixed mean is: 6251\n",
      "RG3 \n",
      "the current mean is: 6241\n",
      "the fixed mean is: 4251\n",
      "SH3 median: 4649\n",
      "RG3 median: 4551 \n",
      "\n",
      "RG3 town has bigger IQR by: 918 RCU \n",
      "\n",
      "SH3 town variance : 28294414.267980862\n",
      "RG3 town variance : 15912298.859999001\n"
     ]
    },
    {
     "data": {
      "image/png": "[encoded data removed]",
      "text/plain": [
       "<Figure size 720x480 with 1 Axes>"
      ]
     },
     "metadata": {
      "needs_background": "light"
     },
     "output_type": "display_data"
    }
   ],
   "source": [
    "#np.random.seed(4)\n",
    "sh_data3 = np.sort(np.random.normal(mean_sh, std_sh*3, pop_sh)).astype(int)\n",
    "#np.random.seed(5)\n",
    "\n",
    "# for rg_data3 scale (std) we assigned smaller std than std_sh by 1 - in order to keep the IQR of SH smaller\n",
    "rg_data3 = np.sort(np.random.normal(mean_rg, std_sh*2.95, pop_rg)).astype(int)*2\n",
    "\n",
    "sh_data3 = rep_neg(sh_data3, \"SH1\")\n",
    "rg_data3 = rep_neg(rg_data3, \"RG1\")\n",
    "\n",
    "sh_data3 = fix_med(sh_data3, med_sh)\n",
    "rg_data3 = fix_med(rg_data3, med_rg)\n",
    "\n",
    "sh_data3 = fix_mean(sh_data3, mean_sh,\"SH3\")\n",
    "rg_data3 = fix_mean(rg_data3, mean_rg,\"RG3\")\n",
    "\n",
    "sh_data3 = fix_med(sh_data3, med_sh)\n",
    "rg_data3 = fix_med(rg_data3, med_rg)\n",
    "\n",
    "print(\"SH3 median:\", sh_data3[int(sh_data1.shape[0]*0.5)])\n",
    "print(\"RG3 median:\", rg_data3[int(rg_data1.shape[0]*0.5)],'\\n')\n",
    "\n",
    "iqr_town(sh_data3, rg_data3, \"SH3\", \"RG3\")\n",
    "print('SH3 town variance :',sh_data3.var())\n",
    "print('RG3 town variance :',rg_data3.var())\n",
    "plt.figure(figsize=(6,4), dpi = 120)\n",
    "\n",
    "# create histplots of bins that are sized of width as defined\n",
    "sns.histplot(sh_data3, binwidth = 100, color='#915e17', edgecolor='k')\n",
    "sns.histplot(rg_data3, binwidth = 100, color='#31a39d', edgecolor='k')\n",
    "plt.xlabel('RCU'), plt.ylabel('Number of rental payments (houses)')\n",
    "plt.title('distribution of RCU - Scenario C')\n",
    "plt.legend(['SH3','RG3']);"
   ]
  },
  {
   "cell_type": "markdown",
   "metadata": {},
   "source": [
    "The survey also examined the per household income (PHI) in these two places.<br>\n",
    "\n",
    "It found that:<br>\n",
    "* The mean of PHI in SH is 12500 and in RG is 8500.\n",
    "* The median is 12000 in SH and 8000 in RG.\n",
    "* The covariance of the rent and the PHI was observed to be as in the formula below with $\\alpha=97\\%$ and $\\alpha=89\\%$ in SH and in RG respectively.<br><br>\n",
    "$$Cov(rent, PHI) = \\alpha * \\sqrt{Var(rent)} * \\sqrt{Var(PHI)}$$\n",
    "\n",
    "#### 2.C\n",
    "Produce rent and PHI data for the two cities, that is consistent with these findings. The covariances in your data can deviate by up to 1% from the numbers given $\\alpha$."
   ]
  },
  {
   "cell_type": "code",
   "execution_count": 19,
   "metadata": {},
   "outputs": [
    {
     "name": "stdout",
     "output_type": "stream",
     "text": [
      "SH before replacing: [-142392 -140388 -126876 ...  148393  153126  170112]\n",
      "SH after replacing: [     1      3      8 ... 148394 153127 170113] \n",
      "\n",
      "RG before replacing: [-214300 -209562 -205664 ...  241166  252802  259660]\n",
      "RG after replacing: [     1     13     13 ... 241167 252803 259661] \n",
      "\n",
      "SH PHI median: 12049\n",
      "RG PHI median: 8049\n",
      "SH \n",
      "the current mean is: 22112\n",
      "the fixed mean is: 12550\n",
      "RG \n",
      "the current mean is: 30496\n",
      "the fixed mean is: 8550\n",
      "\n",
      " SH Observed covariance's (rent and PHI) a: 96.58 %\n",
      "\n",
      " RG Observed covariance's (rent and PHI) a: 88.3 %\n"
     ]
    }
   ],
   "source": [
    "mean_phi_sh = 12500\n",
    "mean_phi_rg = 8500\n",
    "\n",
    "med_phi_sh = 12000\n",
    "med_phi_rg = 8000\n",
    "\n",
    "std_phi_sh = 36000 # estimated\n",
    "std_phi_rg = 31500 # estimated\n",
    "\n",
    "# creating PHI data for each city\n",
    "np.random.seed(6) # use random.seed in order to generate a fixed database\n",
    "sh_phi = np.sort(np.random.normal(mean_phi_sh, std_phi_sh, pop_sh)).astype(int)\n",
    "np.random.seed(7)\n",
    "rg_phi = np.sort(np.random.normal(mean_phi_rg, std_phi_rg, pop_rg)).astype(int)*2\n",
    "\n",
    "# raplacing negative values and round the numbers\n",
    "sh_phi = rep_neg(sh_phi, \"SH\")\n",
    "rg_phi = rep_neg(rg_phi, \"RG\")\n",
    "\n",
    "# assign the median\n",
    "sh_phi = fix_med(sh_phi, med_phi_sh)\n",
    "rg_phi = fix_med(rg_phi, med_phi_rg)\n",
    "\n",
    "print(\"SH PHI median:\", sh_phi[int(sh_phi.shape[0]*0.5)])\n",
    "print(\"RG PHI median:\", rg_phi[int(rg_phi.shape[0]*0.5)])\n",
    "\n",
    "# fixing the mean\n",
    "sh_phi = fix_mean(sh_phi, mean_phi_sh,\"SH\")\n",
    "rg_phi = fix_mean(rg_phi, mean_phi_rg,\"RG\")\n",
    "\n",
    "# stacking phi and rental payments (scenario A) to single 2D array\n",
    "sh = np.vstack((sh_data2, sh_phi))\n",
    "rg = np.vstack((sh_data2, sh_phi))\n",
    "\n",
    "def check_cov(db,std_rent,std_phi,name):\n",
    "    # calculate the covariance of 2D array \"db\" along the columns (between 2 rows)\n",
    "    # name - name of town\n",
    "    # calculate 𝐶𝑜𝑣(𝑟𝑒𝑛𝑡,𝑃𝐻𝐼) = np.cov(sh)[0][1] (covariance matrix)\n",
    "    # the variable that was used to fix the covariance - std_phi_xx\n",
    "\n",
    "    cov_db = np.round(100*(np.cov(db)[0][1]/(std_rent*std_phi)),2) # transfer the covariance to precentage with 2 decimals\n",
    "    print('\\n', name, 'Observed covariance\\'s (rent and PHI) a:', cov_db,'%') \n",
    "    \n",
    "check_cov(sh, std_sh, std_phi_sh, 'SH')\n",
    "check_cov(rg, std_rg, std_phi_rg, 'RG')"
   ]
  },
  {
   "cell_type": "markdown",
   "metadata": {},
   "source": [
    "#### 2.D\n",
    "Produce two heatmaps that describe these two bivariate joint distributions. Make sure you carefully consider the selected binning resolution."
   ]
  },
  {
   "cell_type": "code",
   "execution_count": 20,
   "metadata": {},
   "outputs": [
    {
     "data": {
      "image/png": "[encoded data removed]",
      "text/plain": [
       "<Figure size 1008x432 with 4 Axes>"
      ]
     },
     "metadata": {
      "needs_background": "light"
     },
     "output_type": "display_data"
    }
   ],
   "source": [
    "fig, ax = plt.subplots(1,2, figsize=(14,6))\n",
    "h1 = ax[0].hist2d(x=sh_data1,y=sh_phi,cmap = 'viridis',bins=4)\n",
    "ax[0].set_xlabel('SH Rent'), ax[0].set_ylabel('SH PHI')\n",
    "ax[0].set_title('SH rental payment and PHI relationship\\n')\n",
    "\n",
    "h2 = ax[1].hist2d(x=rg_data1,y=rg_phi,cmap = 'viridis',bins=4)\n",
    "ax[1].set_xlabel('RG Rent'), ax[1].set_ylabel('RG PHI')\n",
    "ax[1].set_title('RG rental payment and PHI relationship\\n');\n",
    "fig.colorbar(h1[3], ax=ax[0]), fig.colorbar(h2[3], ax=ax[1])\n",
    "plt.tight_layout()"
   ]
  },
  {
   "cell_type": "markdown",
   "metadata": {},
   "source": [
    "### Question 3 - Multinomial Distributions\n",
    "\n",
    "1. Let $X \\sim Multinomial(n,\\vec{p})$ be a multinomial random variable where $n=20$ and $\\vec{p} = (0.2,  0.1,  0.1,  0.1,  0.2,  0.3)$. Note that X is a vector of counts.\n",
    "\n",
    "\n",
    "2. Let $Y = X_2 + X_3 + X_4$ be a random variable.\n",
    "\n",
    "\n",
    "3. Create $k=100$ experiments where $X$ is sampled using Python. Calculate the empirical centralized third moment of $Y$ based on your $k$ experiments.\n",
    "\n",
    "\n",
    "4. Compare your result to the calculation in class for the centralized third moment of the **binomial** distribution and explain your observation."
   ]
  },
  {
   "cell_type": "code",
   "execution_count": 21,
   "metadata": {},
   "outputs": [],
   "source": [
    "from scipy.stats import multinomial"
   ]
  },
  {
   "cell_type": "code",
   "execution_count": 22,
   "metadata": {},
   "outputs": [
    {
     "data": {
      "text/plain": [
       "array([[5, 1, 4, 0, 6, 4]])"
      ]
     },
     "execution_count": 22,
     "metadata": {},
     "output_type": "execute_result"
    }
   ],
   "source": [
    "X = multinomial(20, [0.2,0.1,0.1,0.1,0.2,0.3])\n",
    "X.rvs()"
   ]
  },
  {
   "cell_type": "code",
   "execution_count": 23,
   "metadata": {},
   "outputs": [
    {
     "data": {
      "text/plain": [
       "array([6])"
      ]
     },
     "execution_count": 23,
     "metadata": {},
     "output_type": "execute_result"
    }
   ],
   "source": [
    "X = multinomial(20, [0.2,0.1,0.1,0.1,0.2,0.3])\n",
    "Y = X.rvs()[:,1:4].sum(axis=1)\n",
    "Y"
   ]
  },
  {
   "cell_type": "markdown",
   "metadata": {},
   "source": [
    "We know that $X_{2},X_{3},X_{4}\\sim Bin(20,0.1)$\n",
    "\n",
    "Thus, $Y\\sim Bin(20,0.3)$."
   ]
  },
  {
   "cell_type": "code",
   "execution_count": 24,
   "metadata": {},
   "outputs": [],
   "source": [
    "k=100\n",
    "samples = X.rvs(size=k)[:,1:4]"
   ]
  },
  {
   "cell_type": "code",
   "execution_count": 25,
   "metadata": {},
   "outputs": [
    {
     "data": {
      "text/plain": [
       "array([ 6,  5,  6,  7,  6,  7,  6,  6,  5,  5,  5,  4,  4,  3,  8,  4,  4,\n",
       "        6,  4,  5,  7,  7,  2,  7,  9,  5,  6,  7,  9,  8,  9,  8,  7,  8,\n",
       "        4,  6,  7,  9, 10,  6,  5,  8,  6,  5,  7, 10,  6,  4, 10,  5,  4,\n",
       "        5,  3,  6,  5,  5,  8,  7,  4,  7,  5,  5,  8,  6,  6,  9,  8,  6,\n",
       "        3,  3, 10,  6,  7,  9,  5,  6,  7,  5,  4,  5,  5,  3,  4,  3,  8,\n",
       "        3,  5,  7,  6,  3,  4,  7,  2,  7,  5,  8,  2,  5,  7,  4])"
      ]
     },
     "execution_count": 25,
     "metadata": {},
     "output_type": "execute_result"
    }
   ],
   "source": [
    "Y_samples = samples.sum(axis=1)\n",
    "Y_samples"
   ]
  },
  {
   "cell_type": "code",
   "execution_count": 26,
   "metadata": {},
   "outputs": [
    {
     "data": {
      "text/plain": [
       "5.88"
      ]
     },
     "execution_count": 26,
     "metadata": {},
     "output_type": "execute_result"
    }
   ],
   "source": [
    "Y_samples_E = Y_samples.mean()\n",
    "Y_samples_E  # Should be close to np=6"
   ]
  },
  {
   "cell_type": "code",
   "execution_count": 27,
   "metadata": {},
   "outputs": [
    {
     "data": {
      "text/plain": [
       "1.141344000000001"
      ]
     },
     "execution_count": 27,
     "metadata": {},
     "output_type": "execute_result"
    }
   ],
   "source": [
    "ECM_3 = ((Y_samples - Y_samples_E)**3).mean()  # Empirical centralized third moment\n",
    "ECM_3"
   ]
  },
  {
   "cell_type": "markdown",
   "metadata": {},
   "source": [
    "One can look at the calculation in class for the centralized third moment of the binomial distribution and wonder if the following holds:\n",
    "$$\\gamma_{3}=E\\left[\\sum_{i=1}^{n}\\left(X_{i}-0.3\\right)^{3}\\right]$$\n",
    "Where $X_i$ is an indicator, stating whether the $i$'th trial is a success.\n",
    "\n",
    "Doing so, yields:"
   ]
  },
  {
   "cell_type": "code",
   "execution_count": 28,
   "metadata": {},
   "outputs": [
    {
     "data": {
      "text/plain": [
       "1.6799999999999997"
      ]
     },
     "execution_count": 28,
     "metadata": {},
     "output_type": "execute_result"
    }
   ],
   "source": [
    "20*0.3*(1-0.3)*(1-0.6)"
   ]
  },
  {
   "cell_type": "markdown",
   "metadata": {},
   "source": [
    "However, $X_{2},X_{3},X_{4}$ are collectively dependent, as they need to sum to $n-l$, where $l$ is the sum of $X_{1}$ and $X_{5}$. This should affect $\\gamma_3$, beacuse we only need to sum up to $n-l$ instead of $n$.\n",
    "\n",
    "Consider the following calculation of $\\gamma_3$ for 1000 different expirements. We take the average of them and actually get a convergence to the calculation in class!"
   ]
  },
  {
   "cell_type": "code",
   "execution_count": 50,
   "metadata": {},
   "outputs": [
    {
     "data": {
      "text/plain": [
       "1.673114832"
      ]
     },
     "execution_count": 50,
     "metadata": {},
     "output_type": "execute_result"
    }
   ],
   "source": [
    "moments = []\n",
    "trials = 1000\n",
    "k=100\n",
    "for i in range(trials):\n",
    "    X = multinomial(20, [0.2,0.1,0.1,0.1,0.2,0.3])\n",
    "    samples = X.rvs(size=k)[:,1:4]\n",
    "    Y_samples = samples.sum(axis=1)\n",
    "    Y_samples_E = Y_samples.mean()\n",
    "    ECM_3 = ((Y_samples - Y_samples_E)**3).mean()\n",
    "    moments.append(ECM_3)\n",
    "np.array(moments).mean()"
   ]
  },
  {
   "cell_type": "markdown",
   "metadata": {},
   "source": [
    "Even though we expect a slight different result, it should be close to the calculation of the binomial."
   ]
  },
  {
   "cell_type": "code",
   "execution_count": 30,
   "metadata": {},
   "outputs": [
    {
     "data": {
      "image/png": "[encoded data removed]",
      "text/plain": [
       "<Figure size 432x288 with 1 Axes>"
      ]
     },
     "metadata": {
      "needs_background": "light"
     },
     "output_type": "display_data"
    }
   ],
   "source": [
    "plt.hist(moments);\n",
    "plt.title(f'$\\gamma_3$, {trials} trials');"
   ]
  },
  {
   "cell_type": "markdown",
   "metadata": {},
   "source": [
    "### Question 4 - Covariance and independence"
   ]
  },
  {
   "cell_type": "markdown",
   "metadata": {},
   "source": [
    "What is the variance of the sum X +Y + Z of three random variables in terms of the variances of X, Y and Z and the covariances between each pair of random variables? What happens if X,Y,Z are pairwise independent? If X,Y,Z are pairwise independent, are they necessarily collectively independent? Prove your answer."
   ]
  },
  {
   "cell_type": "markdown",
   "metadata": {},
   "source": [
    "Remember that:\n",
    "1. $Var(X)=E[X^2]-E[X]^2$\n",
    "2. $Cov(X_{i},X_{j})=E[X_{i}X_{j}]-E[X_{i}]E[X_{j}]$\n",
    "\n",
    "Thus:"
   ]
  },
  {
   "cell_type": "markdown",
   "metadata": {},
   "source": [
    "$$Var\\left(X+Y+Z\\right)=E\\left[\\left(X+Y+Z\\right)^{2}\\right]-E\\left[X+Y+Z\\right]^{2}=E\\left[X^{2}+2XY+2XZ+Y^{2}+2YZ+Z^{2}\\right]-\\left(E\\left[X\\right]+E\\left[Y\\right]+E\\left[Z\\right]\\right)^{2}=$$\n",
    "$$\\underbrace{E\\left[X^{2}\\right]}+2E\\left[XY\\right]+2E\\left[XZ\\right]+\\underbrace{E\\left[Y^{2}\\right]}+2E\\left[YZ\\right]+\\underbrace{E\\left[Z^{2}\\right]}-\\underbrace{E\\left[X\\right]^{2}}-2E\\left[X\\right]E\\left[Y\\right]-\\underbrace{E\\left[Y\\right]^{2}}-2E\\left[Y\\right]E\\left[Z\\right]-2E\\left[X\\right]E\\left[Z\\right]-\\underbrace{E\\left[Z\\right]^{2}}=$$\n",
    "$$Var\\left(X\\right)+Var\\left(Y\\right)+Var\\left(Z\\right)+2Cov\\left(X,Y\\right)+2Cov\\left(X,Z\\right)+2Cov\\left(Y,Z\\right)$$"
   ]
  },
  {
   "cell_type": "markdown",
   "metadata": {},
   "source": [
    "If $X_{i},X_{j}$ are pairwise independent, we have:\n",
    "$$E[X_{i}X_{j}]=E[X_{i}]E[X_{j}]$$\n",
    "Plugging it to $Var(X,Y,Z)$ yields:\n",
    "\n",
    "$$Var(X,Y,Z)=Var(X)+Var(Y)+Var(Z)$$"
   ]
  },
  {
   "cell_type": "markdown",
   "metadata": {},
   "source": [
    "If $X,Y,Z$ are pairwise indepenent, they are not necessarly collectively independent, as seen in the MultiNomial distribution, whereas every entry $X_i$ in the multinomial vector is a binomial RV by its own with $(n,p_i)$ where $n$ is the same $n$ as in the Multinomial RV and $p_i$ is the corresponding $p$ in the $i$th index the multinomial probability vector. Hence, all $X_i$ are pairwise independent. \n",
    "\n",
    "However, if $X_1>0$, then it is sufficient that $P\\{X_i=n\\}=0,\\forall i\\ge2$, making them collectively dependent."
   ]
  },
  {
   "cell_type": "markdown",
   "metadata": {},
   "source": [
    "### Question 5 - Convolutions"
   ]
  },
  {
   "cell_type": "markdown",
   "metadata": {},
   "source": [
    "#### 5.A\n",
    "Write a program, `Q = NFoldConv(P , n)`, that takes as input:\n",
    "* A distribution, P, of a random variable that takes finitely many integer values\n",
    "* An integer n\n",
    "\n",
    "and produces the distribution, Q, of the sum of n independent repeats of random variables, each of which has the distribution P."
   ]
  },
  {
   "cell_type": "code",
   "execution_count": 31,
   "metadata": {},
   "outputs": [],
   "source": [
    "from scipy.stats import randint, rv_discrete"
   ]
  },
  {
   "cell_type": "code",
   "execution_count": 34,
   "metadata": {},
   "outputs": [],
   "source": [
    "def NFoldConv(P, n):\n",
    "    pmf = P.pmf(np.arange(P.a, P.b+1))\n",
    "    pmfs = pmf\n",
    "    for i in range(n-1):  # Convolution is associative\n",
    "        pmfs = np.convolve(pmfs, pmf)\n",
    "    \n",
    "    vals = np.arange(P.a*n, P.b*n+1)\n",
    "    return rv_discrete(values=(vals, pmfs)) "
   ]
  },
  {
   "cell_type": "markdown",
   "metadata": {},
   "source": [
    "#### 5.B\n",
    "Compute the distribution of the sum of the results of rolling a fair octahedron 17 times.\n",
    "\n",
    "<img src=\"https://upload.wikimedia.org/wikipedia/commons/2/27/Octahedron.jpg\" width=\"200\">\n"
   ]
  },
  {
   "cell_type": "code",
   "execution_count": 35,
   "metadata": {},
   "outputs": [],
   "source": [
    "P = randint(1, 9)  # A single octahedron"
   ]
  },
  {
   "cell_type": "code",
   "execution_count": 36,
   "metadata": {},
   "outputs": [],
   "source": [
    "Q = NFoldConv(P, 17)  # Sum of 17 octahedrons"
   ]
  },
  {
   "cell_type": "code",
   "execution_count": 37,
   "metadata": {},
   "outputs": [
    {
     "name": "stdout",
     "output_type": "stream",
     "text": [
      "The mode is 76\n"
     ]
    },
    {
     "data": {
      "image/png": "[encoded data removed]",
      "text/plain": [
       "<Figure size 1152x360 with 2 Axes>"
      ]
     },
     "metadata": {
      "needs_background": "light"
     },
     "output_type": "display_data"
    }
   ],
   "source": [
    "x = np.arange(Q.a, Q.b+1)\n",
    "fig, ax = plt.subplots(1,2, figsize=(16,5))\n",
    "ax[0].bar(x,Q.pmf(x)), ax[0].set_title('PMF')\n",
    "ax[1].bar(x,Q.cdf(x)), ax[1].set_title('CDF')\n",
    "print('The mode is', x[Q.pmf(x).argmax()])"
   ]
  }
 ],
 "metadata": {
  "kernelspec": {
   "display_name": "Python 3 (ipykernel)",
   "language": "python",
   "name": "python3"
  },
  "language_info": {
   "codemirror_mode": {
    "name": "ipython",
    "version": 3
   },
   "file_extension": ".py",
   "mimetype": "text/x-python",
   "name": "python",
   "nbconvert_exporter": "python",
   "pygments_lexer": "ipython3",
   "version": "3.9.7"
  }
 },
 "nbformat": 4,
 "nbformat_minor": 2
}
